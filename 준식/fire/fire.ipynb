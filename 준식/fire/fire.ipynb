{
 "cells": [
  {
   "cell_type": "code",
   "execution_count": 1,
   "metadata": {},
   "outputs": [],
   "source": [
    "import pandas as pd"
   ]
  },
  {
   "cell_type": "code",
   "execution_count": 28,
   "metadata": {},
   "outputs": [],
   "source": [
    "df = pd.read_csv(\"fire_data.csv\")"
   ]
  },
  {
   "cell_type": "code",
   "execution_count": null,
   "metadata": {},
   "outputs": [],
   "source": [
    "df.head()"
   ]
  },
  {
   "cell_type": "markdown",
   "metadata": {},
   "source": [
    "### 필요없는 컬럼 제거"
   ]
  },
  {
   "cell_type": "code",
   "execution_count": 29,
   "metadata": {},
   "outputs": [],
   "source": [
    "columns_to_drop = [\n",
    "\n",
    "    'prcs_result_se_nm',  # 처리결과구분명\n",
    "    'hmg_ymd',            # 귀소일자\n",
    "    'hmg_tm',             # 귀소시각\n",
    "    'hmg_yr',             # 귀소연도\n",
    "    'hmg_mnth',           # 귀소월\n",
    "    'hmg_day',            # 귀소일\n",
    "    'hmg_hour',           # 귀소시\n",
    "    'hmg_min',            # 귀소분\n",
    "    'sido_nm',            # 시도명\n",
    "    'time_unit_msnf',     # 시간단위적설량\n",
    "    'time_unit',          # 시간단위가시거리\n",
    "    'acdnt_place_nm',     # 사고장소명\n",
    "    'msfrtn_resc_reprt_no',  # 재난구조보고서번호\n",
    "    'dsp_ymd',               # 출동일자\n",
    "    'dsp_tm',                # 출동시각\n",
    "    'dsp_yr',                # 출동연도\n",
    "    'dsp_mnth',              # 출동월\n",
    "    'dsp_day',               # 출동일\n",
    "    'dsp_hour',              # 출동시\n",
    "    'dsp_min',               # 출동분\n",
    "    'resc_cmptn_tm',         # 구조완료시각\n",
    "    'resc_cmptn_yr',         # 구조완료연도\n",
    "    'resc_cmptn_mnth',       # 구조완료월\n",
    "    'resc_cmptn_day',        # 구조완료일\n",
    "    'cty_frmvl_se_nm',       # 도시농촌구분명\n",
    "    'emd_se_nm'              # 읍면동구분명\n",
    "]\n",
    "\n",
    "df = df.drop(columns=columns_to_drop)\n"
   ]
  },
  {
   "cell_type": "code",
   "execution_count": null,
   "metadata": {},
   "outputs": [],
   "source": [
    "df.info()"
   ]
  },
  {
   "cell_type": "markdown",
   "metadata": {},
   "source": [
    "### 좌표 변환"
   ]
  },
  {
   "cell_type": "code",
   "execution_count": 32,
   "metadata": {},
   "outputs": [
    {
     "name": "stderr",
     "output_type": "stream",
     "text": [
      "C:\\Users\\m\\AppData\\Local\\Temp\\ipykernel_8456\\467047859.py:19: FutureWarning: This function is deprecated. See: https://pyproj4.github.io/pyproj/stable/gotchas.html#upgrading-to-pyproj-2-from-pyproj-1\n",
      "  lon, lat = transform(tm5186, wgs84, x, y)  # TM5186에서 WGS 84로 좌표 변환\n"
     ]
    },
    {
     "name": "stdout",
     "output_type": "stream",
     "text": [
      "       gis_x_axis   gis_y_axis   latitude   longitude\n",
      "0     204810.2000  545291.8600  37.974551  127.032747\n",
      "1     186122.4940  543977.2694  37.962614  126.820080\n",
      "2     187477.7700  548528.3500  38.003636  126.835423\n",
      "3     207280.7800  545612.4900  37.977423  127.060869\n",
      "4     194072.3039  541646.1387  37.941699  126.910565\n",
      "...           ...          ...        ...         ...\n",
      "8383  202256.0414  550509.6913  38.021570  127.003693\n",
      "8384  191057.2356  541494.4675  37.940308  126.876266\n",
      "8385  211184.6700  548877.0400  38.006795  127.105353\n",
      "8386  188521.9600  550298.6800  38.019599  126.847284\n",
      "8387  210112.9159  541990.1776  37.944761  127.093052\n",
      "\n",
      "[8388 rows x 4 columns]\n"
     ]
    }
   ],
   "source": [
    "import pandas as pd  # pandas 라이브러리 임포트\n",
    "from pyproj import Proj, transform  # pyproj에서 Proj 및 transform 임포트\n",
    "\n",
    "\n",
    "# TM5186 좌표계와 WGS 84 좌표계의 프로젝션 정의\n",
    "\n",
    "# tm5186 = Proj(proj='tmerc', lat_0=38.5, lon_0=126.0, k=1, x_0=200000, y_0=500000, ellps='GRS80')\n",
    "\n",
    "# 서울데이터\n",
    "# tm5186 = Proj(proj='tmerc', lat_0=37.5665, lon_0=126.978, k=1, x_0=200000, y_0=500000, ellps='GRS80')\n",
    "\n",
    "\n",
    "tm5186 = Proj(proj='tmerc', lat_0=37.5665, lon_0=126.978, k=1, x_0=200000, y_0=500000, ellps='GRS80')# TM5186 프로젝션 정의\n",
    "wgs84 = Proj(proj='longlat', datum='WGS84')  # WGS 84 프로젝션 정의\n",
    "\n",
    "# 변환 함수 정의ㄴ\n",
    "def transform_coordinates(x, y):\n",
    "    \"\"\"주어진 TM5186 좌표를 WGS 84 좌표로 변환하는 함수\"\"\"\n",
    "    lon, lat = transform(tm5186, wgs84, x, y)  # TM5186에서 WGS 84로 좌표 변환\n",
    "    return lat, lon  # 변환된 위도와 경도를 반환\n",
    "\n",
    "# 데이터프레임의 각 행에 대해 좌표 변환 적용\n",
    "df['latitude'], df['longitude'] = zip(*df.apply(lambda row: transform_coordinates(row['gis_x_axis'], row['gis_y_axis']), axis=1))\n",
    "\n",
    "# 결과 출력\n",
    "print(df[['gis_x_axis', 'gis_y_axis', 'latitude', 'longitude']])  # 변환된 결과를 포함한 데이터프레임 출력\n"
   ]
  },
  {
   "cell_type": "code",
   "execution_count": 37,
   "metadata": {},
   "outputs": [
    {
     "data": {
      "text/html": [
       "<div style=\"width:100%;\"><div style=\"position:relative;width:100%;height:0;padding-bottom:60%;\"><span style=\"color:#565656\">Make this Notebook Trusted to load map: File -> Trust Notebook</span><iframe srcdoc=\"&lt;!DOCTYPE html&gt;\n",
       "&lt;html&gt;\n",
       "&lt;head&gt;\n",
       "    \n",
       "    &lt;meta http-equiv=&quot;content-type&quot; content=&quot;text/html; charset=UTF-8&quot; /&gt;\n",
       "    \n",
       "        &lt;script&gt;\n",
       "            L_NO_TOUCH = false;\n",
       "            L_DISABLE_3D = false;\n",
       "        &lt;/script&gt;\n",
       "    \n",
       "    &lt;style&gt;html, body {width: 100%;height: 100%;margin: 0;padding: 0;}&lt;/style&gt;\n",
       "    &lt;style&gt;#map {position:absolute;top:0;bottom:0;right:0;left:0;}&lt;/style&gt;\n",
       "    &lt;script src=&quot;https://cdn.jsdelivr.net/npm/leaflet@1.9.3/dist/leaflet.js&quot;&gt;&lt;/script&gt;\n",
       "    &lt;script src=&quot;https://code.jquery.com/jquery-3.7.1.min.js&quot;&gt;&lt;/script&gt;\n",
       "    &lt;script src=&quot;https://cdn.jsdelivr.net/npm/bootstrap@5.2.2/dist/js/bootstrap.bundle.min.js&quot;&gt;&lt;/script&gt;\n",
       "    &lt;script src=&quot;https://cdnjs.cloudflare.com/ajax/libs/Leaflet.awesome-markers/2.0.2/leaflet.awesome-markers.js&quot;&gt;&lt;/script&gt;\n",
       "    &lt;link rel=&quot;stylesheet&quot; href=&quot;https://cdn.jsdelivr.net/npm/leaflet@1.9.3/dist/leaflet.css&quot;/&gt;\n",
       "    &lt;link rel=&quot;stylesheet&quot; href=&quot;https://cdn.jsdelivr.net/npm/bootstrap@5.2.2/dist/css/bootstrap.min.css&quot;/&gt;\n",
       "    &lt;link rel=&quot;stylesheet&quot; href=&quot;https://netdna.bootstrapcdn.com/bootstrap/3.0.0/css/bootstrap-glyphicons.css&quot;/&gt;\n",
       "    &lt;link rel=&quot;stylesheet&quot; href=&quot;https://cdn.jsdelivr.net/npm/@fortawesome/fontawesome-free@6.2.0/css/all.min.css&quot;/&gt;\n",
       "    &lt;link rel=&quot;stylesheet&quot; href=&quot;https://cdnjs.cloudflare.com/ajax/libs/Leaflet.awesome-markers/2.0.2/leaflet.awesome-markers.css&quot;/&gt;\n",
       "    &lt;link rel=&quot;stylesheet&quot; href=&quot;https://cdn.jsdelivr.net/gh/python-visualization/folium/folium/templates/leaflet.awesome.rotate.min.css&quot;/&gt;\n",
       "    \n",
       "            &lt;meta name=&quot;viewport&quot; content=&quot;width=device-width,\n",
       "                initial-scale=1.0, maximum-scale=1.0, user-scalable=no&quot; /&gt;\n",
       "            &lt;style&gt;\n",
       "                #map_65246fc9f2e2c8f06684bbc32cc7ddbc {\n",
       "                    position: relative;\n",
       "                    width: 100.0%;\n",
       "                    height: 100.0%;\n",
       "                    left: 0.0%;\n",
       "                    top: 0.0%;\n",
       "                }\n",
       "                .leaflet-container { font-size: 1rem; }\n",
       "            &lt;/style&gt;\n",
       "        \n",
       "&lt;/head&gt;\n",
       "&lt;body&gt;\n",
       "    \n",
       "    \n",
       "            &lt;div class=&quot;folium-map&quot; id=&quot;map_65246fc9f2e2c8f06684bbc32cc7ddbc&quot; &gt;&lt;/div&gt;\n",
       "        \n",
       "&lt;/body&gt;\n",
       "&lt;script&gt;\n",
       "    \n",
       "    \n",
       "            var map_65246fc9f2e2c8f06684bbc32cc7ddbc = L.map(\n",
       "                &quot;map_65246fc9f2e2c8f06684bbc32cc7ddbc&quot;,\n",
       "                {\n",
       "                    center: [37.974551, 127.032747],\n",
       "                    crs: L.CRS.EPSG3857,\n",
       "                    zoom: 12,\n",
       "                    zoomControl: true,\n",
       "                    preferCanvas: false,\n",
       "                }\n",
       "            );\n",
       "\n",
       "            \n",
       "\n",
       "        \n",
       "    \n",
       "            var tile_layer_6106f2409cd0ba6670dfb28392b538ab = L.tileLayer(\n",
       "                &quot;https://tile.openstreetmap.org/{z}/{x}/{y}.png&quot;,\n",
       "                {&quot;attribution&quot;: &quot;\\u0026copy; \\u003ca href=\\&quot;https://www.openstreetmap.org/copyright\\&quot;\\u003eOpenStreetMap\\u003c/a\\u003e contributors&quot;, &quot;detectRetina&quot;: false, &quot;maxNativeZoom&quot;: 19, &quot;maxZoom&quot;: 19, &quot;minZoom&quot;: 0, &quot;noWrap&quot;: false, &quot;opacity&quot;: 1, &quot;subdomains&quot;: &quot;abc&quot;, &quot;tms&quot;: false}\n",
       "            );\n",
       "        \n",
       "    \n",
       "            tile_layer_6106f2409cd0ba6670dfb28392b538ab.addTo(map_65246fc9f2e2c8f06684bbc32cc7ddbc);\n",
       "        \n",
       "    \n",
       "            var circle_marker_f4c29aab6053009ca61ad961a9afd0cb = L.circleMarker(\n",
       "                [37.974551, 127.032747],\n",
       "                {&quot;bubblingMouseEvents&quot;: true, &quot;color&quot;: &quot;black&quot;, &quot;dashArray&quot;: null, &quot;dashOffset&quot;: null, &quot;fill&quot;: true, &quot;fillColor&quot;: &quot;black&quot;, &quot;fillOpacity&quot;: 0.6, &quot;fillRule&quot;: &quot;evenodd&quot;, &quot;lineCap&quot;: &quot;round&quot;, &quot;lineJoin&quot;: &quot;round&quot;, &quot;opacity&quot;: 1.0, &quot;radius&quot;: 8, &quot;stroke&quot;: true, &quot;weight&quot;: 3}\n",
       "            ).addTo(map_65246fc9f2e2c8f06684bbc32cc7ddbc);\n",
       "        \n",
       "&lt;/script&gt;\n",
       "&lt;/html&gt;\" style=\"position:absolute;width:100%;height:100%;left:0;top:0;border:none !important;\" allowfullscreen webkitallowfullscreen mozallowfullscreen></iframe></div></div>"
      ],
      "text/plain": [
       "<folium.folium.Map at 0x1a820a2acf0>"
      ]
     },
     "execution_count": 37,
     "metadata": {},
     "output_type": "execute_result"
    }
   ],
   "source": [
    "import folium\n",
    "\n",
    "#  126.043212  0.409606   125.875333  0.397716  \n",
    "\n",
    "# 주어진 위도와 경도\n",
    "latitude = 37.974551  \n",
    "longitude = 127.032747\n",
    "\n",
    "# Folium 지도 생성\n",
    "m = folium.Map(location=[latitude, longitude], zoom_start=12)\n",
    "\n",
    "# 위치에 작은 검정색 원 추가\n",
    "folium.CircleMarker(location=[latitude, longitude], radius=8, color='black', fill=True, fill_opacity=0.6).add_to(m)\n",
    "\n",
    "# 지도 출력 (주피터 노트북 사용 시)\n",
    "m\n"
   ]
  },
  {
   "cell_type": "markdown",
   "metadata": {},
   "source": [
    "### 지도 시각화 folium"
   ]
  },
  {
   "cell_type": "code",
   "execution_count": null,
   "metadata": {},
   "outputs": [],
   "source": [
    "import folium\n",
    "\n",
    "# 데이터의 첫 100개만 선택\n",
    "df_subset = df.head(100)\n",
    "\n",
    "m = folium.Map(location=[37.5665, 126.978], zoom_start=12)\n",
    "\n",
    "# 상위 100개 좌표에 마커 추가\n",
    "for idx, row in df_subset.iterrows():\n",
    "    folium.Marker([row['Longitude'], row['Latitude']]).add_to(m)\n",
    "\n",
    "# 지도 저장\n",
    "m"
   ]
  },
  {
   "cell_type": "code",
   "execution_count": 45,
   "metadata": {},
   "outputs": [],
   "source": [
    "import folium\n",
    "\n",
    "# 기본 맵 생성: 서울의 대략적인 중앙 좌표로 설정\n",
    "m = folium.Map(location=[37.5665, 126.978], zoom_start=12)\n",
    "\n",
    "# 데이터 프레임 df의 좌표를 순회하며 마커 추가\n",
    "for index, row in df.iterrows():\n",
    "    folium.Marker(\n",
    "        location=[row['gis_y_axis'], row['gis_x_axis']],\n",
    "        popup=f\"Index: {index}<br>X: {row['gis_x_axis']}<br>Y: {row['gis_y_axis']}\",\n",
    "        icon=folium.Icon(color='blue')\n",
    "    ).add_to(m)\n",
    "\n",
    "# 결과 맵을 HTML 파일로 저장\n",
    "m.save(\"seoul_map.html\")\n"
   ]
  }
 ],
 "metadata": {
  "kernelspec": {
   "display_name": "ml",
   "language": "python",
   "name": "python3"
  },
  "language_info": {
   "codemirror_mode": {
    "name": "ipython",
    "version": 3
   },
   "file_extension": ".py",
   "mimetype": "text/x-python",
   "name": "python",
   "nbconvert_exporter": "python",
   "pygments_lexer": "ipython3",
   "version": "3.12.5"
  }
 },
 "nbformat": 4,
 "nbformat_minor": 2
}
